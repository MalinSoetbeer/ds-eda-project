{
 "cells": [
  {
   "cell_type": "markdown",
   "metadata": {},
   "source": [
    "\n",
    "\n",
    "\n",
    "\n",
    "\n",
    "\n",
    "# Investing in the King County Housing Market \n",
    "## Foundations of a clever investment decision\n",
    "\n",
    "The data contains the King County House prices from May 2014 - to May 2015. It contains the selling prices, information on 18 house features and the date of sale. \n",
    "Our stakeholder is interested in buying und selling houses for the highest possible profit. Therefore things as social responsibility or a sustainable urban development are counterproductive. Her mantra: 'If I don't do it, someone else will.'.\n",
    "To match her interest in the housing market we need to provide data where to find cheap objects with high profit margins.\n",
    "\n",
    "## Structure\n",
    "1. Preparing the data\n",
    "2. Understanding the data\n",
    "3. Insights \n",
    "4. Recommendations for our Stakeholder\n",
    "\n",
    "\n",
    "Hypotheses:\n",
    "1. The nearer a district is located to the city center the higher housing prices get.\n",
    "2. House prices increased in the years 2014 - 2015.\n",
    "3. When there is more space for living the prices increase.\n"
   ]
  },
  {
   "cell_type": "code",
   "execution_count": null,
   "metadata": {},
   "outputs": [],
   "source": [
    "# Import necessary libraries\n",
    "import pandas as pd\n",
    "import numpy as np\n",
    "import matplotlib.pyplot as plt\n",
    "import seaborn as sns\n",
    "import plotly.express as px\n",
    "import altair as alt\n",
    "import datetime \n",
    "import geojson\n",
    "\n"
   ]
  },
  {
   "cell_type": "code",
   "execution_count": null,
   "metadata": {},
   "outputs": [],
   "source": [
    "# Import data\n",
    "king_county = pd.read_csv(\"data/King_County_House_prices_dataset.csv\")\n",
    "\n"
   ]
  },
  {
   "cell_type": "markdown",
   "metadata": {},
   "source": [
    "# Preparing the data\n",
    "First step: Cleaning the data. We check for duplicates, missing values and correct the datatypes.\n"
   ]
  },
  {
   "cell_type": "code",
   "execution_count": null,
   "metadata": {},
   "outputs": [],
   "source": [
    "# all columns and datatype\n",
    "king_county.info()"
   ]
  },
  {
   "cell_type": "code",
   "execution_count": null,
   "metadata": {},
   "outputs": [],
   "source": [
    "#check dataframe shape\n",
    "king_county.shape"
   ]
  },
  {
   "cell_type": "markdown",
   "metadata": {},
   "source": [
    "We can see that there are missing values in column 'waterfront','view' and 'yr_renovated'. We can also assume that 'sqft_basement' should be a float. We should change the 'yr_built' and 'yr_renovated' into datetime objects. We should also check if there are duplicates, e.g. in the 'id' column. "
   ]
  },
  {
   "cell_type": "code",
   "execution_count": null,
   "metadata": {},
   "outputs": [],
   "source": [
    "#check wether there are duplicates for 'id'\n",
    "king_county['id'].nunique "
   ]
  },
  {
   "cell_type": "markdown",
   "metadata": {},
   "source": [
    "There are no duplicates of 'id' in the data set. Next step check for missing values."
   ]
  },
  {
   "cell_type": "code",
   "execution_count": null,
   "metadata": {},
   "outputs": [],
   "source": [
    "#check missing values\n",
    "king_county.isnull().sum()"
   ]
  },
  {
   "cell_type": "markdown",
   "metadata": {},
   "source": [
    "So there are 2376 missing values in 'waterfront', 63 in 'view' and 3842 in 'yr_renovated'. "
   ]
  },
  {
   "cell_type": "markdown",
   "metadata": {},
   "source": [
    "### waterfront: missing values"
   ]
  },
  {
   "cell_type": "code",
   "execution_count": null,
   "metadata": {},
   "outputs": [],
   "source": [
    "#insight in missing values of 'waterfront'\n",
    "print(king_county['waterfront'].nunique())\n",
    "king_county['waterfront'].value_counts()"
   ]
  },
  {
   "cell_type": "markdown",
   "metadata": {},
   "source": [
    "Since the majority of the values of 'waterfront' is 0 (absence of waterfront), we can replace the missing values wiht 0. "
   ]
  },
  {
   "cell_type": "code",
   "execution_count": null,
   "metadata": {},
   "outputs": [],
   "source": [
    "king_county['waterfront'] = king_county['waterfront'].fillna(0)\n",
    "#check\n",
    "king_county['waterfront'].isnull().sum()"
   ]
  },
  {
   "cell_type": "markdown",
   "metadata": {},
   "source": [
    "### view: missing values"
   ]
  },
  {
   "cell_type": "code",
   "execution_count": null,
   "metadata": {},
   "outputs": [],
   "source": [
    "print(king_county['view'].nunique())\n",
    "king_county['view'].value_counts()"
   ]
  },
  {
   "cell_type": "code",
   "execution_count": null,
   "metadata": {},
   "outputs": [],
   "source": [
    "#we replace missing values with 0 as it is the majority.\n",
    "king_county['view'] = king_county['view'].fillna(0)\n",
    "#check\n",
    "king_county['view'].isnull().sum()"
   ]
  },
  {
   "cell_type": "markdown",
   "metadata": {},
   "source": [
    "### yr_renovated: missing values"
   ]
  },
  {
   "cell_type": "code",
   "execution_count": null,
   "metadata": {},
   "outputs": [],
   "source": [
    "#check\n",
    "print(king_county['yr_renovated'].nunique())\n",
    "king_county['yr_renovated'].value_counts()"
   ]
  },
  {
   "cell_type": "code",
   "execution_count": null,
   "metadata": {},
   "outputs": [],
   "source": [
    "#again we can replace missing values with 0 as it looks like the majority of the values ist 0.\n",
    "king_county['yr_renovated'] = king_county['yr_renovated'].fillna(0)\n",
    "#check\n",
    "king_county['yr_renovated'].isnull().sum()"
   ]
  },
  {
   "cell_type": "markdown",
   "metadata": {},
   "source": [
    "### correction of datatypes: 'sqft_basement' & 'date'"
   ]
  },
  {
   "cell_type": "code",
   "execution_count": null,
   "metadata": {},
   "outputs": [],
   "source": [
    "#check out the sqft_basement values to understand, why it isn't a float\n",
    "king_county['sqft_basement'].sort_values(ascending=True)"
   ]
  },
  {
   "cell_type": "code",
   "execution_count": null,
   "metadata": {},
   "outputs": [],
   "source": [
    "#how many '?' are there? \n",
    "len(king_county[king_county['sqft_basement'] == '?'])"
   ]
  },
  {
   "cell_type": "code",
   "execution_count": null,
   "metadata": {},
   "outputs": [],
   "source": [
    "#as we can see there are 454 '?' instead of integers. We can calculate new values for sqft_basement.\n",
    "for i in list(king_county[king_county['sqft_basement'] == '?'].index.values):\n",
    "    king_county.loc[i, 'sqft_basement'] = king_county.loc[i, 'sqft_living'] - king_county.loc[i, 'sqft_above']\n",
    "#check\n",
    "len(king_county[king_county['sqft_basement'] == '?'])"
   ]
  },
  {
   "cell_type": "code",
   "execution_count": null,
   "metadata": {},
   "outputs": [],
   "source": [
    "#correct to float\n",
    "king_county['sqft_basement'] = king_county['sqft_basement'].astype('float64')\n",
    "#check\n",
    "king_county['sqft_basement'].dtypes"
   ]
  },
  {
   "cell_type": "markdown",
   "metadata": {},
   "source": [
    "date"
   ]
  },
  {
   "cell_type": "code",
   "execution_count": null,
   "metadata": {},
   "outputs": [],
   "source": [
    "#is date datetime object?\n",
    "isinstance(king_county['date'][0], datetime.date)"
   ]
  },
  {
   "cell_type": "code",
   "execution_count": null,
   "metadata": {},
   "outputs": [],
   "source": [
    "#convert to datetime object\n",
    "king_county['date'] = pd.to_datetime(king_county['date'])\n",
    "#check\n",
    "isinstance(king_county['date'][0], datetime.date)\n"
   ]
  },
  {
   "cell_type": "code",
   "execution_count": null,
   "metadata": {},
   "outputs": [],
   "source": [
    "\n",
    "# Create new column for year\n",
    "king_county['year'] = king_county.date.dt.year\n",
    "\n",
    "# Create new column for day-year-month\n",
    "king_county['day_year_month'] = king_county['date'].dt.strftime('%d/%m/%Y')\n",
    "\n",
    "king_county.head(2)"
   ]
  },
  {
   "cell_type": "markdown",
   "metadata": {},
   "source": [
    "## Understanding the data\n",
    "In the next step we get to know the data a little further. Therefore we look at the descriptive statistics of the dataset and some initial visualizations to get a better understanding of the dataset."
   ]
  },
  {
   "cell_type": "code",
   "execution_count": null,
   "metadata": {},
   "outputs": [],
   "source": [
    "#getting to know the data\n",
    "king_county.head(5)"
   ]
  },
  {
   "cell_type": "code",
   "execution_count": null,
   "metadata": {},
   "outputs": [],
   "source": [
    "#getting to know the data\n",
    "king_county.describe()"
   ]
  },
  {
   "cell_type": "code",
   "execution_count": null,
   "metadata": {},
   "outputs": [],
   "source": [
    "#linearity scan\n",
    "sns.pairplot(king_county, diag_kind = 'hist', corner = True)"
   ]
  },
  {
   "cell_type": "markdown",
   "metadata": {},
   "source": [
    "When we scroll in we can see linearity:\n",
    "- 'sqft_living' vs. 'price', 'sqft_living' vs. 'bathrooms', 'sqft_living' vs. 'sqft_above', 'sqft_living' vs. 'sqft_living15'\n",
    "'sqft_above' vs. 'grade'\n",
    "- 'sqft_living15' vs. 'grade', 'sqft_living15' vs. 'sqft_above'\n",
    "- 'price' vs. 'bedrooms', 'price' vs. 'bathrooms', 'price' vs. 'grade', 'price' vs. 'sqft_above', 'price' vs. 'sqft_living15'"
   ]
  },
  {
   "cell_type": "code",
   "execution_count": null,
   "metadata": {},
   "outputs": [],
   "source": [
    "#split data in 2 different groups, categorial and continuous, to provide a more precise overview\n",
    "continuous = ['price', 'sqft_living','sqft_lot', 'sqft_above', 'sqft_basement', 'sqft_living15', 'sqft_lot15']\n",
    "categoricals = ['price', 'bedrooms', 'bathrooms', 'floors', 'waterfront', 'condition', 'grade']"
   ]
  },
  {
   "cell_type": "code",
   "execution_count": null,
   "metadata": {},
   "outputs": [],
   "source": [
    "#continuous data\n",
    "sns.pairplot(king_county[continuous], diag_kind = 'hist', corner=True)"
   ]
  },
  {
   "cell_type": "code",
   "execution_count": null,
   "metadata": {},
   "outputs": [],
   "source": [
    "#categorial data\n",
    "sns.pairplot(king_county[categoricals], diag_kind= 'hist', corner = 'True')\n"
   ]
  },
  {
   "cell_type": "markdown",
   "metadata": {},
   "source": [
    "Relationships regarding the price: \n",
    "Categorial variables: As we can see 'bedrooms', 'grade', 'bathrooms' are in a linear relationship with 'price'. Of the continuous variables there is a clear linear relationship with 'sqft_living'."
   ]
  },
  {
   "cell_type": "code",
   "execution_count": null,
   "metadata": {},
   "outputs": [],
   "source": [
    "#closer look at the distribution of the price variable\n",
    "import plotly.figure_factory as ff\n",
    "fig = px.histogram(king_county, x=\"price\", marginal=\"box\", title='price distribution')\n",
    "fig.show()\n"
   ]
  },
  {
   "cell_type": "markdown",
   "metadata": {},
   "source": [
    "We have a minimum price of 78.000$ , a maximum price of 7.7 Million$. The 0.25 quantil is at about 322.00$, the median house price is at about 450.000$. Most of the observations are between 320.000 and 340.000$. "
   ]
  },
  {
   "cell_type": "markdown",
   "metadata": {},
   "source": [
    "## Insights\n",
    "As our stakeholder is interested in high profit margins further examination is provided on the dependencies of the housing price. We are especially interested in the location of cheap houses and want to examine the different districts of King County."
   ]
  },
  {
   "cell_type": "code",
   "execution_count": null,
   "metadata": {},
   "outputs": [],
   "source": [
    "#zipcode with lowest price\n",
    "#group df by the median of the prices and sort it\n",
    "lowest_prices = king_county.groupby('zipcode').median().sort_values('price').reset_index()\n",
    "lowest_prices"
   ]
  },
  {
   "cell_type": "code",
   "execution_count": null,
   "metadata": {},
   "outputs": [],
   "source": [
    "#now here is the geographical plot\n",
    "#imported gj above\n",
    "#load zipcodes from the area from .geojson file (get from link)\n",
    "with open ('http://data-seattlecitygis.opendata.arcgis.com/datasets/83fc2e72903343aabff6de8cb445b81c_2.geojson') as f:\n",
    "    gj = geojson.load(f)\n",
    "#zipcodes are added as ID for each zipcode area in the gj array. Plotly can now automatically link the zip code data to theappropiate area.\n",
    "\n",
    "for i in range(len(gj['features'])):\n",
    "    gj['features'][i]['id'] = gj['features'][i]['properties']['ZIPCODE']\n"
   ]
  },
  {
   "cell_type": "code",
   "execution_count": null,
   "metadata": {},
   "outputs": [],
   "source": [
    "#plot\n",
    "fig = px.choropleth_mapbox(lowest_prices, geojson=gj, locations='zipcode', color='price', title='Median houseprices / district',\n",
    "                            color_continuous_scale='inferno_r',\n",
    "                            range_color=(230000, 2000000),\n",
    "                            mapbox_style = 'open-street-map',\n",
    "                            zoom=8.1,\n",
    "                            center={'lat' : 47.460, 'lon' : -122.014},\n",
    "                            opacity=0.5,\n",
    "                            hover_data=['price', 'zipcode'],\n",
    "                            labels = {'price: median house prices'},\n",
    "                            width=750,\n",
    "                            height=500\n",
    "                            )\n",
    "fig.show()"
   ]
  },
  {
   "cell_type": "markdown",
   "metadata": {},
   "source": [
    "##"
   ]
  },
  {
   "cell_type": "markdown",
   "metadata": {},
   "source": [
    "We can see that the districts on the easternside of the Lake Washington are the districts with the highest prices. The 'Mercer Island', 'Medina' and 'Clyde Hill' belong to the areas with the highest house prices. After examining Google Maps we can state that the city center with possibilities to shop, eat out and enjoy life is located on the western side of the Lake Washington. \n",
    "We should take a closer look at the cheapest districts."
   ]
  },
  {
   "cell_type": "code",
   "execution_count": null,
   "metadata": {},
   "outputs": [],
   "source": [
    "#zipcode change into string to get a catergorial data to plot\n",
    "king_county['zipcode'] = king_county['zipcode'].map(str)"
   ]
  },
  {
   "cell_type": "code",
   "execution_count": null,
   "metadata": {},
   "outputs": [],
   "source": [
    "#data grouped by zipcode \n",
    "king_county.groupby('zipcode').count()"
   ]
  },
  {
   "cell_type": "code",
   "execution_count": null,
   "metadata": {},
   "outputs": [],
   "source": [
    "#zipcode with lowest price\n",
    "lowest_prices = king_county.groupby('zipcode').median().sort_values('price').reset_index()\n",
    "lowest_prices"
   ]
  },
  {
   "cell_type": "code",
   "execution_count": null,
   "metadata": {},
   "outputs": [],
   "source": [
    "#decide that price <300.000$ as the cheapest 25% of houses is suitable for our stakeholder. \n",
    "# we create a list with all the zipcodes with a median price < 300.000$ \n",
    "list_lowest_price = lowest_prices.query('price <= 300000').zipcode.tolist()\n",
    "list_lowest_price\n"
   ]
  },
  {
   "cell_type": "code",
   "execution_count": null,
   "metadata": {},
   "outputs": [],
   "source": [
    "#the zipcodes of the original dataframe are filtered with the list \n",
    "#dataframe with the zipcodes of the districts with median prices < 300.000 $:\n",
    "df_cheapest_zipcodes = king_county[king_county['zipcode'].isin(list_lowest_price)]\n",
    "df_cheapest_zipcodes"
   ]
  },
  {
   "cell_type": "code",
   "execution_count": null,
   "metadata": {},
   "outputs": [],
   "source": [
    "#there are 15 zipcodes with median house prices < 300.000$\n",
    "#data frame for the 15 cheapest zipcodes incl median price: \n",
    "df_cheapest_zipcode_median_price = df_cheapest_zipcodes.groupby('zipcode').median().sort_values('price').reset_index()\n",
    "df_cheapest_zipcode_median_price"
   ]
  },
  {
   "cell_type": "code",
   "execution_count": null,
   "metadata": {},
   "outputs": [],
   "source": [
    "#plot the 15 cheapest districts\n",
    "fig = px.choropleth_mapbox(df_cheapest_zipcode_median_price, geojson=gj, locations='zipcode', color='price', title='districts with median prices < 300.000$',\n",
    "                            color_continuous_scale='inferno',\n",
    "                            range_color=(230000, 300000),\n",
    "                            mapbox_style = 'open-street-map',\n",
    "                            zoom=8.1,\n",
    "                            center={'lat' : 47.460, 'lon' : -122.014},\n",
    "                            opacity=0.5,\n",
    "                            hover_data=['price', 'zipcode'],\n",
    "                            labels = {'price: median house prices'},\n",
    "                            width=750,\n",
    "                            height=500\n",
    "                            )\n",
    "\n",
    "fig.show()"
   ]
  },
  {
   "cell_type": "markdown",
   "metadata": {},
   "source": [
    "## Development of the prices in the cheapest districts \n",
    "Because our steakholder wants buy and resell with maximal profit it is useful to look at the price development in the cheapest districts."
   ]
  },
  {
   "cell_type": "code",
   "execution_count": null,
   "metadata": {},
   "outputs": [],
   "source": [
    "#development of median price in all cheap districts\n",
    "df_cheapest_zipcodes.groupby('year').price.median()\n"
   ]
  },
  {
   "cell_type": "markdown",
   "metadata": {},
   "source": [
    "In all cheap districts the median price increased from year 2014 to year 2015."
   ]
  },
  {
   "cell_type": "code",
   "execution_count": null,
   "metadata": {},
   "outputs": [],
   "source": [
    "#iterating through original dataframe and creating two new ones: one for 2014 and one for 2015\n",
    "king_county_2014 = king_county.query('year == 2014')\n",
    "king_county_2014.head(2)\n",
    "\n"
   ]
  },
  {
   "cell_type": "code",
   "execution_count": null,
   "metadata": {},
   "outputs": [],
   "source": [
    "king_county_2015 = king_county.query('year == 2015')\n",
    "king_county_2015.head(2) "
   ]
  },
  {
   "cell_type": "code",
   "execution_count": null,
   "metadata": {},
   "outputs": [],
   "source": [
    "#changing the datatype of zipcode to be able to merge the dataframes\n",
    "king_county['zipcode']= king_county['zipcode'].astype('string')\n",
    "king_county.dtypes"
   ]
  },
  {
   "cell_type": "code",
   "execution_count": null,
   "metadata": {},
   "outputs": [],
   "source": [
    "#iterating through those new dataframes and creating new ones with cheapest zipcodes\n",
    "kc_2014_cheap = king_county_2014[king_county_2014['zipcode'].isin(list_lowest_price)]\n",
    "kc_2014_cheap"
   ]
  },
  {
   "cell_type": "code",
   "execution_count": null,
   "metadata": {},
   "outputs": [],
   "source": [
    "kc_2015_cheap = king_county_2015[king_county_2015['zipcode'].isin(list_lowest_price)]\n",
    "kc_2015_cheap"
   ]
  },
  {
   "cell_type": "markdown",
   "metadata": {},
   "source": [
    "For the year 2014 we have 2663 prices and for the year 2015 we have 1382 prices. Although there are just half the observations in 2015 we can compare the median price per year and district to get an overview of the price development."
   ]
  },
  {
   "cell_type": "code",
   "execution_count": null,
   "metadata": {},
   "outputs": [],
   "source": [
    "median_cheaps_2014 = kc_2014_cheap.groupby('zipcode').mean().sort_values('price').round()\n",
    "median_cheaps_2014.head()"
   ]
  },
  {
   "cell_type": "code",
   "execution_count": null,
   "metadata": {},
   "outputs": [],
   "source": [
    "median_cheaps_2015 = kc_2015_cheap.groupby('zipcode').mean().sort_values('price').round(0)\n",
    "median_cheaps_2015.head()\n"
   ]
  },
  {
   "cell_type": "code",
   "execution_count": null,
   "metadata": {},
   "outputs": [],
   "source": [
    "#join the two dataframes on ID (which is the zipcode) with the median prcies of 2014 and 2015 to plot them.\n",
    "cheap_joined = median_cheaps_2014.join(median_cheaps_2015, how =\"inner\", lsuffix= 'left', rsuffix= 'right')\n",
    "cheap_joined"
   ]
  },
  {
   "cell_type": "code",
   "execution_count": null,
   "metadata": {},
   "outputs": [],
   "source": [
    "#plot the prices of 2014/2015 per zipcode\n",
    "fig = px.bar(cheap_joined, y= ['priceleft', 'priceright'], barmode = 'group', title= 'Price Development 2014 - 2015')\n",
    "\n",
    "\n",
    "for idx in range(len(fig.data)):\n",
    "    fig.data[idx].x = ['Tukwila', 'Auburn', 'Kent', 'Lakeland', 'Seatac/Tukwila', 'Burien', 'Federal Way', 'Federal Way/ East', 'Kent/Southeast', 'Kent/ East Hill', 'Renton', 'Brin Mawr-Skyway', 'Covington', 'Des Moines', 'Center']\n",
    "\n",
    "fig.update_layout(\n",
    "    font_family=\"Arial\",\n",
    "    title_font_size= 30,\n",
    "    font_color=\"grey\",\n",
    "    title_font_family=\"Arial\",\n",
    "    title_font_color=\"grey\",\n",
    "    legend_title_font_color=\"grey\"\n",
    ")\n",
    "fig.update_xaxes(title_font_family=\"Arial\", title= 'District')\n",
    "fig.update_yaxes(title_font_family=\"Arial\", title= 'Median Price')\n",
    "\n",
    "newnames = {'priceleft':'median price 2014', 'priceright': 'median price 2015'}\n",
    "fig.for_each_trace(lambda t: t.update(name = newnames[t.name]))\n",
    "\n",
    "fig.show()"
   ]
  },
  {
   "cell_type": "code",
   "execution_count": null,
   "metadata": {},
   "outputs": [],
   "source": []
  },
  {
   "cell_type": "code",
   "execution_count": null,
   "metadata": {},
   "outputs": [],
   "source": [
    "#calculate the percentage of the price increase\n",
    "def create_percentage(priceleft):\n",
    "        for i in cheap_joined['priceleft']:\n",
    "\n",
    "                price_percentage = ((cheap_joined['priceright'] - cheap_joined['priceleft']) / cheap_joined['priceleft']) * 100\n",
    "                return price_percentage\n",
    "\n",
    "create_percentage('priceleft')\n",
    "        \n"
   ]
  },
  {
   "cell_type": "code",
   "execution_count": null,
   "metadata": {},
   "outputs": [],
   "source": [
    "#add the price_percentage to the dataframe\n",
    "cheap_joined['price_percentage']= (create_percentage('priceleft'))\n",
    "cheap_joined.head(2)"
   ]
  },
  {
   "cell_type": "code",
   "execution_count": null,
   "metadata": {},
   "outputs": [],
   "source": [
    "#plot price percentage increase from 2014 to 2015\n",
    "fig = px.bar(cheap_joined, y= ['price_percentage'], title= 'price increase (percentage)')\n",
    "\n",
    "\n",
    "for idx in range(len(fig.data)):\n",
    "    fig.data[idx].x = ['Tukwila', 'Auburn', 'Kent', 'Lakeland', 'Seatac/Tukwila', 'Burien', 'Federal Way', 'Federal Way/ East', 'Kent/Southeast', 'Kent/ East Hill', 'Renton', 'Brin Mawr-Skyway', 'Covington', 'Des Moines', 'Center']\n",
    "\n",
    "fig.update_layout(\n",
    "    font_family=\"Arial\",\n",
    "    title_font_size= 30,\n",
    "    font_color=\"grey\",\n",
    "    title_font_family=\"Arial\",\n",
    "    title_font_color=\"grey\",\n",
    "    legend_title_font_color=\"grey\"\n",
    ")\n",
    "fig.update_xaxes(title_font_family=\"Arial\", title= 'District')\n",
    "fig.update_yaxes(title_font_family=\"Arial\", title= 'price percentage')\n",
    "\n",
    "#newnames = {'priceleft':'median price 2014', 'priceright': 'median price 2015'}\n",
    "#fig.for_each_trace(lambda t: t.update(name = newnames[t.name]))\n",
    "\n",
    "fig.show()"
   ]
  },
  {
   "cell_type": "markdown",
   "metadata": {},
   "source": [
    "Observation:\n",
    "In Tukwila we can observe an increase of housing prices of 9.5% in one year. \n",
    "In Seatac/ Tukwila it is 8.4%.\n",
    "Overall there are only two districts with significant decreasing prcies: Burien and Des Moines.\n"
   ]
  }
 ],
 "metadata": {
  "kernelspec": {
   "display_name": "Python 3 (ipykernel)",
   "language": "python",
   "name": "python3"
  },
  "language_info": {
   "codemirror_mode": {
    "name": "ipython",
    "version": 3
   },
   "file_extension": ".py",
   "mimetype": "text/x-python",
   "name": "python",
   "nbconvert_exporter": "python",
   "pygments_lexer": "ipython3",
   "version": "3.9.8"
  }
 },
 "nbformat": 4,
 "nbformat_minor": 4
}
